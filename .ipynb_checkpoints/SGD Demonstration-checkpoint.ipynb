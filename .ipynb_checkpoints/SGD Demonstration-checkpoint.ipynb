{
 "cells": [
  {
   "cell_type": "markdown",
   "id": "voluntary-photograph",
   "metadata": {},
   "source": [
    "***Author: Tejaswini Patil***\\\n",
    "***Reg No: 20MAI0044***\n",
    "### Stochastic Gradient Descent"
   ]
  },
  {
   "cell_type": "code",
   "execution_count": 1,
   "id": "impossible-generator",
   "metadata": {},
   "outputs": [],
   "source": [
    "#Importing required libraries\n",
    "import numpy as np\n",
    "import matplotlib.pyplot as plt\n",
    "from sklearn import datasets\n",
    "from sklearn.linear_model import SGDClassifier"
   ]
  },
  {
   "cell_type": "markdown",
   "id": "duplicate-little",
   "metadata": {},
   "source": [
    "### Data preparation"
   ]
  },
  {
   "cell_type": "code",
   "execution_count": 2,
   "id": "polyphonic-classic",
   "metadata": {},
   "outputs": [],
   "source": [
    "# import iris data\n",
    "iris = datasets.load_iris()\n",
    "\n",
    "# Consider only first two features for this demo\n",
    "X = iris.data[:, :2]\n",
    "y = iris.target\n",
    "colors = \"bry\""
   ]
  },
  {
   "cell_type": "markdown",
   "id": "later-chocolate",
   "metadata": {},
   "source": [
    "### Shuffle the data"
   ]
  },
  {
   "cell_type": "code",
   "execution_count": 3,
   "id": "centered-designation",
   "metadata": {},
   "outputs": [],
   "source": [
    "idx = np.arange(X.shape[0])\n",
    "np.random.seed(13)\n",
    "np.random.shuffle(idx)\n",
    "X = X[idx]\n",
    "y = y[idx]"
   ]
  },
  {
   "cell_type": "markdown",
   "id": "excellent-courtesy",
   "metadata": {},
   "source": [
    "### Standardize the data"
   ]
  },
  {
   "cell_type": "code",
   "execution_count": 4,
   "id": "removable-uncertainty",
   "metadata": {},
   "outputs": [],
   "source": [
    "mean = X.mean(axis=0)\n",
    "std = X.std(axis=0)\n",
    "X = (X - mean) / std"
   ]
  },
  {
   "cell_type": "markdown",
   "id": "existing-tamil",
   "metadata": {},
   "source": [
    "### Deciding the step size"
   ]
  },
  {
   "cell_type": "code",
   "execution_count": 5,
   "id": "dress-arrest",
   "metadata": {},
   "outputs": [],
   "source": [
    "h = 0.02"
   ]
  },
  {
   "cell_type": "markdown",
   "id": "varied-minute",
   "metadata": {},
   "source": [
    "### Classifier"
   ]
  },
  {
   "cell_type": "code",
   "execution_count": 6,
   "id": "medium-delta",
   "metadata": {},
   "outputs": [],
   "source": [
    "clf = SGDClassifier(alpha=0.001, max_iter=100).fit(X, y)"
   ]
  },
  {
   "cell_type": "markdown",
   "id": "activated-annex",
   "metadata": {},
   "source": [
    "### Mesh for plotting the points"
   ]
  },
  {
   "cell_type": "code",
   "execution_count": 7,
   "id": "structured-wisdom",
   "metadata": {},
   "outputs": [],
   "source": [
    "x_min, x_max = X[:, 0].min() - 1, X[:, 0].max() + 1\n",
    "y_min, y_max = X[:, 1].min() - 1, X[:, 1].max() + 1\n",
    "xx, yy = np.meshgrid(np.arange(x_min, x_max, h),np.arange(y_min, y_max, h))"
   ]
  },
  {
   "cell_type": "markdown",
   "id": "insured-indicator",
   "metadata": {},
   "source": [
    "### Plot the decision boundary"
   ]
  },
  {
   "cell_type": "code",
   "execution_count": 8,
   "id": "geological-arizona",
   "metadata": {},
   "outputs": [
    {
     "data": {
      "text/plain": [
       "(-2.8700241338470187, 3.489975866152987, -3.433947141908086, 4.086052858091921)"
      ]
     },
     "execution_count": 8,
     "metadata": {},
     "output_type": "execute_result"
    },
    {
     "data": {
      "image/png": "[encoded data removed]",
      "text/plain": [
       "<Figure size 432x288 with 1 Axes>"
      ]
     },
     "metadata": {
      "needs_background": "light"
     },
     "output_type": "display_data"
    }
   ],
   "source": [
    "# For that, we will assign a color to each point in the mesh [x_min, x_max]x[y_min, y_max].\n",
    "Z = clf.predict(np.c_[xx.ravel(), yy.ravel()])\n",
    "\n",
    "# Put the result into a color plot\n",
    "Z = Z.reshape(xx.shape)\n",
    "cs = plt.contourf(xx, yy, Z, cmap=plt.cm.Paired)\n",
    "plt.axis('tight')"
   ]
  },
  {
   "cell_type": "code",
   "execution_count": 9,
   "id": "mobile-extreme",
   "metadata": {},
   "outputs": [
    {
     "data": {
      "text/plain": [
       "(-2.0881263006455915,\n",
       " 2.7101213689230006,\n",
       " -2.7101832614184618,\n",
       " 3.367011367809805)"
      ]
     },
     "execution_count": 9,
     "metadata": {},
     "output_type": "execute_result"
    },
    {
     "data": {
      "image/png": "[encoded data removed]",
      "text/plain": [
       "<Figure size 432x288 with 1 Axes>"
      ]
     },
     "metadata": {
      "needs_background": "light"
     },
     "output_type": "display_data"
    }
   ],
   "source": [
    "# We'll plot the training points as well\n",
    "for i, color in zip(clf.classes_, colors):\n",
    "    idx = np.where(y == i)\n",
    "    plt.scatter(X[idx, 0], X[idx, 1], c=color, label=iris.target_names[i],\n",
    "                cmap=plt.cm.Paired, edgecolor='black', s=20)\n",
    "plt.title(\"Decision surface of multi-class SGD\")\n",
    "plt.axis('tight')"
   ]
  },
  {
   "cell_type": "code",
   "execution_count": 10,
   "id": "facial-hours",
   "metadata": {},
   "outputs": [
    {
     "name": "stderr",
     "output_type": "stream",
     "text": [
      "No handles with labels found to put in legend.\n"
     ]
    },
    {
     "data": {
      "image/png": "[encoded data removed]",
      "text/plain": [
       "<Figure size 432x288 with 1 Axes>"
      ]
     },
     "metadata": {
      "needs_background": "light"
     },
     "output_type": "display_data"
    }
   ],
   "source": [
    "# Plot the three one-against-all classifiers\n",
    "xmin, xmax = plt.xlim()\n",
    "ymin, ymax = plt.ylim()\n",
    "coef = clf.coef_\n",
    "intercept = clf.intercept_\n",
    "\n",
    "\n",
    "def plot_hyperplane(c, color):\n",
    "    def line(x0):\n",
    "        return (-(x0 * coef[c, 0]) - intercept[c]) / coef[c, 1]\n",
    "\n",
    "    plt.plot([xmin, xmax], [line(xmin), line(xmax)],\n",
    "             ls=\"--\", color=color)\n",
    "\n",
    "\n",
    "for i, color in zip(clf.classes_, colors):\n",
    "    plot_hyperplane(i, color)\n",
    "plt.legend()\n",
    "plt.show()"
   ]
  },
  {
   "cell_type": "code",
   "execution_count": null,
   "id": "detailed-conducting",
   "metadata": {},
   "outputs": [],
   "source": []
  },
  {
   "cell_type": "code",
   "execution_count": null,
   "id": "mobile-defeat",
   "metadata": {},
   "outputs": [],
   "source": []
  },
  {
   "cell_type": "code",
   "execution_count": null,
   "id": "gentle-leather",
   "metadata": {},
   "outputs": [],
   "source": []
  }
 ],
 "metadata": {
  "kernelspec": {
   "display_name": "Python 3",
   "language": "python",
   "name": "python3"
  },
  "language_info": {
   "codemirror_mode": {
    "name": "ipython",
    "version": 3
   },
   "file_extension": ".py",
   "mimetype": "text/x-python",
   "name": "python",
   "nbconvert_exporter": "python",
   "pygments_lexer": "ipython3",
   "version": "3.6.6"
  }
 },
 "nbformat": 4,
 "nbformat_minor": 5
}
