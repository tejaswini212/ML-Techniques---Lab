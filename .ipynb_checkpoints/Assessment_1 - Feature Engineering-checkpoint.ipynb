{
 "cells": [
  {
   "cell_type": "markdown",
   "id": "banned-maximum",
   "metadata": {},
   "source": [
    "### Author: Tejaswini Patil\n",
    "### Reg No: 20MAI0044"
   ]
  },
  {
   "cell_type": "markdown",
   "id": "cardiac-genealogy",
   "metadata": {},
   "source": [
    "**Dataset I : crx.data**\n",
    "#### **Assessment-1: Feature engineering**"
   ]
  },
  {
   "cell_type": "code",
   "execution_count": null,
   "id": "banner-consent",
   "metadata": {},
   "outputs": [],
   "source": []
  }
 ],
 "metadata": {
  "kernelspec": {
   "display_name": "Python 3",
   "language": "python",
   "name": "python3"
  },
  "language_info": {
   "codemirror_mode": {
    "name": "ipython",
    "version": 3
   },
   "file_extension": ".py",
   "mimetype": "text/x-python",
   "name": "python",
   "nbconvert_exporter": "python",
   "pygments_lexer": "ipython3",
   "version": "3.6.6"
  }
 },
 "nbformat": 4,
 "nbformat_minor": 5
}
