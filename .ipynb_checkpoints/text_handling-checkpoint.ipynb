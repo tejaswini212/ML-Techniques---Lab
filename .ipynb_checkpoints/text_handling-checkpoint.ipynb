{
 "cells": [
  {
   "cell_type": "code",
   "execution_count": 1,
   "id": "demographic-insertion",
   "metadata": {},
   "outputs": [],
   "source": [
    "# CLASSIFY THE TEXT DATA USING LOGIT\n",
    "# Sentiment Analysis\n",
    "# Gender determination - by just looking at names\n",
    "#Stemming #tokenize or segment --nltk\n",
    "#Vectorizing\n",
    "#Sentiment Analysis\n",
    "#imdb website \n",
    "#imdb.csv"
   ]
  },
  {
   "cell_type": "code",
   "execution_count": 2,
   "id": "three-recruitment",
   "metadata": {},
   "outputs": [],
   "source": [
    "#1: Importing the Dataset\n",
    "import pandas as pd\n",
    "\n",
    "df = pd.read_csv(\"IMDB Dataset.csv\")"
   ]
  },
  {
   "cell_type": "code",
   "execution_count": 3,
   "id": "miniature-filename",
   "metadata": {},
   "outputs": [
    {
     "data": {
      "text/html": [
       "<div>\n",
       "<style scoped>\n",
       "    .dataframe tbody tr th:only-of-type {\n",
       "        vertical-align: middle;\n",
       "    }\n",
       "\n",
       "    .dataframe tbody tr th {\n",
       "        vertical-align: top;\n",
       "    }\n",
       "\n",
       "    .dataframe thead th {\n",
       "        text-align: right;\n",
       "    }\n",
       "</style>\n",
       "<table border=\"1\" class=\"dataframe\">\n",
       "  <thead>\n",
       "    <tr style=\"text-align: right;\">\n",
       "      <th></th>\n",
       "      <th>review</th>\n",
       "      <th>sentiment</th>\n",
       "    </tr>\n",
       "  </thead>\n",
       "  <tbody>\n",
       "    <tr>\n",
       "      <th>0</th>\n",
       "      <td>One of the other reviewers has mentioned that ...</td>\n",
       "      <td>positive</td>\n",
       "    </tr>\n",
       "    <tr>\n",
       "      <th>1</th>\n",
       "      <td>A wonderful little production. &lt;br /&gt;&lt;br /&gt;The...</td>\n",
       "      <td>positive</td>\n",
       "    </tr>\n",
       "    <tr>\n",
       "      <th>2</th>\n",
       "      <td>I thought this was a wonderful way to spend ti...</td>\n",
       "      <td>positive</td>\n",
       "    </tr>\n",
       "    <tr>\n",
       "      <th>3</th>\n",
       "      <td>Basically there's a family where a little boy ...</td>\n",
       "      <td>negative</td>\n",
       "    </tr>\n",
       "    <tr>\n",
       "      <th>4</th>\n",
       "      <td>Petter Mattei's \"Love in the Time of Money\" is...</td>\n",
       "      <td>positive</td>\n",
       "    </tr>\n",
       "  </tbody>\n",
       "</table>\n",
       "</div>"
      ],
      "text/plain": [
       "                                              review sentiment\n",
       "0  One of the other reviewers has mentioned that ...  positive\n",
       "1  A wonderful little production. <br /><br />The...  positive\n",
       "2  I thought this was a wonderful way to spend ti...  positive\n",
       "3  Basically there's a family where a little boy ...  negative\n",
       "4  Petter Mattei's \"Love in the Time of Money\" is...  positive"
      ]
     },
     "execution_count": 3,
     "metadata": {},
     "output_type": "execute_result"
    }
   ],
   "source": [
    "df.head()"
   ]
  },
  {
   "cell_type": "code",
   "execution_count": 4,
   "id": "matched-dairy",
   "metadata": {},
   "outputs": [
    {
     "data": {
      "text/plain": [
       "'Phil the Alien is one of those quirky films where the humour is based around the oddness of everything rather than actual punchlines.<br /><br />At first it was very odd and pretty funny but as the movie progressed I didn\\'t find the jokes or oddness funny anymore.<br /><br />Its a low budget film (thats never a problem in itself), there were some pretty interesting characters, but eventually I just lost interest.<br /><br />I imagine this film would appeal to a stoner who is currently partaking.<br /><br />For something similar but better try \"Brother from another planet\"'"
      ]
     },
     "execution_count": 4,
     "metadata": {},
     "output_type": "execute_result"
    }
   ],
   "source": [
    "df['review'][10]"
   ]
  },
  {
   "cell_type": "code",
   "execution_count": 5,
   "id": "ready-questionnaire",
   "metadata": {},
   "outputs": [
    {
     "data": {
      "text/plain": [
       "(50000, 2)"
      ]
     },
     "execution_count": 5,
     "metadata": {},
     "output_type": "execute_result"
    }
   ],
   "source": [
    "df.shape"
   ]
  },
  {
   "cell_type": "code",
   "execution_count": 6,
   "id": "continued-toddler",
   "metadata": {},
   "outputs": [
    {
     "data": {
      "text/plain": [
       "array(['positive', 'negative'], dtype=object)"
      ]
     },
     "execution_count": 6,
     "metadata": {},
     "output_type": "execute_result"
    }
   ],
   "source": [
    "df['sentiment'].unique()"
   ]
  },
  {
   "cell_type": "code",
   "execution_count": 7,
   "id": "subjective-runner",
   "metadata": {},
   "outputs": [],
   "source": [
    "#2: Data Preparation - RegEx\n",
    "# Getting rid of html tags and emojis-if required"
   ]
  },
  {
   "cell_type": "code",
   "execution_count": 8,
   "id": "south-trace",
   "metadata": {},
   "outputs": [],
   "source": [
    "# Stemming the Documents (Review Column)\n",
    "\n",
    "from nltk.stem.porter import PorterStemmer  #Lancaster #Snowball #RegExp\n",
    "porter = PorterStemmer()\n",
    "\n",
    "def stemmer_tokenize(text):\n",
    "    return [porter.stem(word) for word in text.split()]"
   ]
  },
  {
   "cell_type": "code",
   "execution_count": 9,
   "id": "parental-barrel",
   "metadata": {},
   "outputs": [
    {
     "data": {
      "text/plain": [
       "['We', 'love', 'coding.', 'henc', 'we', 'keep', 'coding!!!']"
      ]
     },
     "execution_count": 9,
     "metadata": {},
     "output_type": "execute_result"
    }
   ],
   "source": [
    "stemmer_tokenize(\"We love coding. Hence we keep coding!!!\")"
   ]
  },
  {
   "cell_type": "code",
   "execution_count": 10,
   "id": "engaged-lafayette",
   "metadata": {},
   "outputs": [],
   "source": [
    "#4: Vectorising the text data #Stanfordnlp\n",
    "from sklearn.feature_extraction.text import TfidfVectorizer #CountVectorizer\n",
    "tfidf = TfidfVectorizer(strip_accents = None,lowercase=False,tokenizer = stemmer_tokenize, use_idf = True,norm='l2',smooth_idf=False) #word_tokenize\n",
    "\n",
    "Y = df.sentiment.values\n",
    "X = tfidf.fit_transform(df.review)\n"
   ]
  },
  {
   "cell_type": "code",
   "execution_count": 11,
   "id": "ignored-louis",
   "metadata": {},
   "outputs": [],
   "source": [
    "#5: Document Classification / Sentiment Analysis using Logistic Regression\n",
    "from sklearn.model_selection import train_test_split\n",
    "\n",
    "X_train, X_test, Y_train, Y_test = train_test_split(X,Y,random_state = 1,test_size=0.5,shuffle=False)\n",
    "\n",
    "import pickle\n",
    "\n",
    "from sklearn.linear_model import LogisticRegressionCV\n",
    "\n",
    "logitCV = LogisticRegressionCV(cv=5,scoring = 'accuracy',max_iter=500).fit(X_train,Y_train)\n",
    "\n",
    "saved_model = open('saved_model.sav','wb') #creates a file\n",
    "\n",
    "pickle.dump(logitCV,saved_model)\n",
    "\n",
    "saved_model.close()"
   ]
  },
  {
   "cell_type": "code",
   "execution_count": 12,
   "id": "mobile-thousand",
   "metadata": {},
   "outputs": [
    {
     "data": {
      "text/plain": [
       "0.88996"
      ]
     },
     "execution_count": 12,
     "metadata": {},
     "output_type": "execute_result"
    }
   ],
   "source": [
    "#6: Run the saved model \n",
    "\n",
    "filename = 'saved_model.sav'\n",
    "\n",
    "saved_logitCV = pickle.load(open(filename,'rb'))\n",
    "\n",
    "saved_logitCV.score(X_test,Y_test)"
   ]
  },
  {
   "cell_type": "code",
   "execution_count": null,
   "id": "small-fountain",
   "metadata": {},
   "outputs": [],
   "source": []
  },
  {
   "cell_type": "code",
   "execution_count": null,
   "id": "severe-ending",
   "metadata": {},
   "outputs": [],
   "source": []
  },
  {
   "cell_type": "code",
   "execution_count": null,
   "id": "super-sussex",
   "metadata": {},
   "outputs": [],
   "source": [
    "# Stemming the Documents (Review Column)\n",
    "\n",
    "from nltk.stem import LancasterStemmer  #Lancaster #Snowball #RegExp\n",
    "lancaster = LancasterStemmer()\n",
    "\n",
    "def stemmer_tokenize(text):\n",
    "    return [lancaster.stem(word) for word in text.split()]\n",
    "\n",
    "#Vectorising the text data #Stanfordnlp\n",
    "from sklearn.feature_extraction.text import TfidfVectorizer #CountVectorizer\n",
    "tfidf = TfidfVectorizer(strip_accents = None,lowercase=False,tokenizer = stemmer_tokenize, use_idf = True,norm='l2',smooth_idf=False) #word_tokenize\n",
    "\n",
    "Y = df.sentiment.values\n",
    "X = tfidf.fit_transform(df.review)\n",
    "\n",
    "X_train, X_test, Y_train, Y_test = train_test_split(X,Y,random_state = 1,test_size=0.5,shuffle=False)\n",
    "\n",
    "logitCV = LogisticRegressionCV(cv=5,scoring = 'accuracy',max_iter=500).fit(X_train,Y_train)\n",
    "\n",
    "saved_model = open('saved_model_lancaster.sav','wb') #creates a file\n",
    "\n",
    "pickle.dump(logitCV,saved_model)\n",
    "\n",
    "saved_model.close()\n"
   ]
  },
  {
   "cell_type": "code",
   "execution_count": null,
   "id": "modified-smith",
   "metadata": {},
   "outputs": [],
   "source": []
  },
  {
   "cell_type": "code",
   "execution_count": null,
   "id": "orange-recording",
   "metadata": {},
   "outputs": [],
   "source": []
  }
 ],
 "metadata": {
  "kernelspec": {
   "display_name": "Python 3",
   "language": "python",
   "name": "python3"
  },
  "language_info": {
   "codemirror_mode": {
    "name": "ipython",
    "version": 3
   },
   "file_extension": ".py",
   "mimetype": "text/x-python",
   "name": "python",
   "nbconvert_exporter": "python",
   "pygments_lexer": "ipython3",
   "version": "3.6.6"
  }
 },
 "nbformat": 4,
 "nbformat_minor": 5
}
