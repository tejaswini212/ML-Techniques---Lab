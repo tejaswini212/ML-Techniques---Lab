{
 "cells": [
  {
   "cell_type": "markdown",
   "id": "herbal-montana",
   "metadata": {},
   "source": [
    "### Author: Tejaswini Patil\n",
    "### Reg No: 20MAI0044"
   ]
  },
  {
   "cell_type": "markdown",
   "id": "paperback-taxation",
   "metadata": {},
   "source": [
    "**Dataset II : loan.csv**\n",
    "#### **Assignment on feature engineering**"
   ]
  },
  {
   "cell_type": "code",
   "execution_count": 1,
   "id": "qualified-cooperation",
   "metadata": {},
   "outputs": [],
   "source": [
    "# Importing the necessary libraries\n",
    "import numpy as np\n",
    "import pandas as pd"
   ]
  },
  {
   "cell_type": "code",
   "execution_count": 2,
   "id": "handled-found",
   "metadata": {},
   "outputs": [],
   "source": [
    "# Lets get the data inside our dataframe\n",
    "data = pd.read_csv('Data/loan.csv')"
   ]
  },
  {
   "cell_type": "code",
   "execution_count": 3,
   "id": "involved-economy",
   "metadata": {},
   "outputs": [
    {
     "data": {
      "text/plain": [
       "(10000, 14)"
      ]
     },
     "execution_count": 3,
     "metadata": {},
     "output_type": "execute_result"
    }
   ],
   "source": [
    "data.shape"
   ]
  },
  {
   "cell_type": "code",
   "execution_count": 4,
   "id": "nuclear-dragon",
   "metadata": {},
   "outputs": [
    {
     "data": {
      "text/html": [
       "<div>\n",
       "<style scoped>\n",
       "    .dataframe tbody tr th:only-of-type {\n",
       "        vertical-align: middle;\n",
       "    }\n",
       "\n",
       "    .dataframe tbody tr th {\n",
       "        vertical-align: top;\n",
       "    }\n",
       "\n",
       "    .dataframe thead th {\n",
       "        text-align: right;\n",
       "    }\n",
       "</style>\n",
       "<table border=\"1\" class=\"dataframe\">\n",
       "  <thead>\n",
       "    <tr style=\"text-align: right;\">\n",
       "      <th></th>\n",
       "      <th>customer_id</th>\n",
       "      <th>disbursed_amount</th>\n",
       "      <th>interest</th>\n",
       "      <th>market</th>\n",
       "      <th>employment</th>\n",
       "      <th>time_employed</th>\n",
       "      <th>householder</th>\n",
       "      <th>income</th>\n",
       "      <th>date_issued</th>\n",
       "      <th>target</th>\n",
       "      <th>loan_purpose</th>\n",
       "      <th>number_open_accounts</th>\n",
       "      <th>date_last_payment</th>\n",
       "      <th>number_credit_lines_12</th>\n",
       "    </tr>\n",
       "  </thead>\n",
       "  <tbody>\n",
       "    <tr>\n",
       "      <th>0</th>\n",
       "      <td>0</td>\n",
       "      <td>23201.5</td>\n",
       "      <td>15.4840</td>\n",
       "      <td>C</td>\n",
       "      <td>Teacher</td>\n",
       "      <td>&lt;=5 years</td>\n",
       "      <td>RENT</td>\n",
       "      <td>84600.0</td>\n",
       "      <td>2013-06-11</td>\n",
       "      <td>0</td>\n",
       "      <td>Debt consolidation</td>\n",
       "      <td>4.0</td>\n",
       "      <td>2016-01-14</td>\n",
       "      <td>NaN</td>\n",
       "    </tr>\n",
       "    <tr>\n",
       "      <th>1</th>\n",
       "      <td>1</td>\n",
       "      <td>7425.0</td>\n",
       "      <td>11.2032</td>\n",
       "      <td>B</td>\n",
       "      <td>Accountant</td>\n",
       "      <td>&lt;=5 years</td>\n",
       "      <td>OWNER</td>\n",
       "      <td>102000.0</td>\n",
       "      <td>2014-05-08</td>\n",
       "      <td>0</td>\n",
       "      <td>Car purchase</td>\n",
       "      <td>13.0</td>\n",
       "      <td>2016-01-25</td>\n",
       "      <td>NaN</td>\n",
       "    </tr>\n",
       "    <tr>\n",
       "      <th>2</th>\n",
       "      <td>2</td>\n",
       "      <td>11150.0</td>\n",
       "      <td>8.5100</td>\n",
       "      <td>A</td>\n",
       "      <td>Statistician</td>\n",
       "      <td>&lt;=5 years</td>\n",
       "      <td>RENT</td>\n",
       "      <td>69840.0</td>\n",
       "      <td>2013-10-26</td>\n",
       "      <td>0</td>\n",
       "      <td>Debt consolidation</td>\n",
       "      <td>8.0</td>\n",
       "      <td>2014-09-26</td>\n",
       "      <td>NaN</td>\n",
       "    </tr>\n",
       "    <tr>\n",
       "      <th>3</th>\n",
       "      <td>3</td>\n",
       "      <td>7600.0</td>\n",
       "      <td>5.8656</td>\n",
       "      <td>A</td>\n",
       "      <td>Other</td>\n",
       "      <td>&lt;=5 years</td>\n",
       "      <td>RENT</td>\n",
       "      <td>100386.0</td>\n",
       "      <td>2015-08-20</td>\n",
       "      <td>0</td>\n",
       "      <td>Debt consolidation</td>\n",
       "      <td>20.0</td>\n",
       "      <td>2016-01-26</td>\n",
       "      <td>NaN</td>\n",
       "    </tr>\n",
       "    <tr>\n",
       "      <th>4</th>\n",
       "      <td>4</td>\n",
       "      <td>31960.0</td>\n",
       "      <td>18.7392</td>\n",
       "      <td>E</td>\n",
       "      <td>Bus driver</td>\n",
       "      <td>&gt;5 years</td>\n",
       "      <td>RENT</td>\n",
       "      <td>95040.0</td>\n",
       "      <td>2014-07-22</td>\n",
       "      <td>0</td>\n",
       "      <td>Debt consolidation</td>\n",
       "      <td>14.0</td>\n",
       "      <td>2016-01-11</td>\n",
       "      <td>NaN</td>\n",
       "    </tr>\n",
       "  </tbody>\n",
       "</table>\n",
       "</div>"
      ],
      "text/plain": [
       "   customer_id  disbursed_amount  interest market    employment time_employed  \\\n",
       "0            0           23201.5   15.4840      C       Teacher     <=5 years   \n",
       "1            1            7425.0   11.2032      B    Accountant     <=5 years   \n",
       "2            2           11150.0    8.5100      A  Statistician     <=5 years   \n",
       "3            3            7600.0    5.8656      A         Other     <=5 years   \n",
       "4            4           31960.0   18.7392      E    Bus driver      >5 years   \n",
       "\n",
       "  householder    income date_issued  target        loan_purpose  \\\n",
       "0        RENT   84600.0  2013-06-11       0  Debt consolidation   \n",
       "1       OWNER  102000.0  2014-05-08       0        Car purchase   \n",
       "2        RENT   69840.0  2013-10-26       0  Debt consolidation   \n",
       "3        RENT  100386.0  2015-08-20       0  Debt consolidation   \n",
       "4        RENT   95040.0  2014-07-22       0  Debt consolidation   \n",
       "\n",
       "   number_open_accounts date_last_payment  number_credit_lines_12  \n",
       "0                   4.0        2016-01-14                     NaN  \n",
       "1                  13.0        2016-01-25                     NaN  \n",
       "2                   8.0        2014-09-26                     NaN  \n",
       "3                  20.0        2016-01-26                     NaN  \n",
       "4                  14.0        2016-01-11                     NaN  "
      ]
     },
     "execution_count": 4,
     "metadata": {},
     "output_type": "execute_result"
    }
   ],
   "source": [
    "# And see what our data looks like\n",
    "data.head()"
   ]
  },
  {
   "cell_type": "code",
   "execution_count": 5,
   "id": "timely-ethernet",
   "metadata": {},
   "outputs": [
    {
     "name": "stdout",
     "output_type": "stream",
     "text": [
      "<class 'pandas.core.frame.DataFrame'>\n",
      "RangeIndex: 10000 entries, 0 to 9999\n",
      "Data columns (total 14 columns):\n",
      " #   Column                  Non-Null Count  Dtype  \n",
      "---  ------                  --------------  -----  \n",
      " 0   customer_id             10000 non-null  int64  \n",
      " 1   disbursed_amount        10000 non-null  float64\n",
      " 2   interest                10000 non-null  float64\n",
      " 3   market                  10000 non-null  object \n",
      " 4   employment              9389 non-null   object \n",
      " 5   time_employed           9471 non-null   object \n",
      " 6   householder             10000 non-null  object \n",
      " 7   income                  10000 non-null  float64\n",
      " 8   date_issued             10000 non-null  object \n",
      " 9   target                  10000 non-null  int64  \n",
      " 10  loan_purpose            10000 non-null  object \n",
      " 11  number_open_accounts    10000 non-null  float64\n",
      " 12  date_last_payment       10000 non-null  object \n",
      " 13  number_credit_lines_12  238 non-null    float64\n",
      "dtypes: float64(5), int64(2), object(7)\n",
      "memory usage: 1.1+ MB\n"
     ]
    }
   ],
   "source": [
    "# Also what is the data type of the features available?\n",
    "data.info()"
   ]
  },
  {
   "cell_type": "markdown",
   "id": "elegant-absolute",
   "metadata": {},
   "source": [
    "#### Continuous Variables"
   ]
  },
  {
   "cell_type": "code",
   "execution_count": 6,
   "id": "nervous-adoption",
   "metadata": {},
   "outputs": [
    {
     "name": "stdout",
     "output_type": "stream",
     "text": [
      "71572.28728915\n",
      "14132.2755\n"
     ]
    }
   ],
   "source": [
    "# Here income and disbursed_amount are features with continuous values\n",
    "print(data['income'].mean())\n",
    "print(data['disbursed_amount'].mean())"
   ]
  },
  {
   "cell_type": "code",
   "execution_count": 7,
   "id": "christian-banner",
   "metadata": {},
   "outputs": [],
   "source": [
    "#data.groupby('disbursed_amount').mean()"
   ]
  },
  {
   "cell_type": "code",
   "execution_count": 8,
   "id": "altered-spring",
   "metadata": {},
   "outputs": [],
   "source": [
    "#print(data['disbursed_amount'].value_counts())"
   ]
  },
  {
   "cell_type": "markdown",
   "id": "theoretical-greene",
   "metadata": {},
   "source": [
    "#### Discrete Variables"
   ]
  },
  {
   "cell_type": "code",
   "execution_count": 9,
   "id": "veterinary-annual",
   "metadata": {},
   "outputs": [],
   "source": [
    "cat_features=[i for i in data.columns if data.dtypes[i]=='object']"
   ]
  },
  {
   "cell_type": "code",
   "execution_count": 10,
   "id": "defensive-bathroom",
   "metadata": {},
   "outputs": [
    {
     "data": {
      "text/plain": [
       "['market',\n",
       " 'employment',\n",
       " 'time_employed',\n",
       " 'householder',\n",
       " 'date_issued',\n",
       " 'loan_purpose',\n",
       " 'date_last_payment']"
      ]
     },
     "execution_count": 10,
     "metadata": {},
     "output_type": "execute_result"
    }
   ],
   "source": [
    "cat_features"
   ]
  },
  {
   "cell_type": "code",
   "execution_count": 11,
   "id": "streaming-seller",
   "metadata": {},
   "outputs": [
    {
     "name": "stdout",
     "output_type": "stream",
     "text": [
      "['C' 'B' 'A' 'E' 'D']\n"
     ]
    }
   ],
   "source": [
    "print(data['market'].unique())"
   ]
  },
  {
   "cell_type": "code",
   "execution_count": 12,
   "id": "forty-violin",
   "metadata": {},
   "outputs": [
    {
     "name": "stdout",
     "output_type": "stream",
     "text": [
      "['Teacher' 'Accountant' 'Statistician' 'Other' 'Bus driver' 'Secretary'\n",
      " 'Software developer' 'Nurse' 'Taxi driver' nan 'Civil Servant' 'Dentist']\n"
     ]
    }
   ],
   "source": [
    "print(data['employment'].unique())"
   ]
  },
  {
   "cell_type": "code",
   "execution_count": 13,
   "id": "favorite-practice",
   "metadata": {},
   "outputs": [
    {
     "name": "stdout",
     "output_type": "stream",
     "text": [
      "['RENT' 'OWNER' 'MORTGAGE']\n"
     ]
    }
   ],
   "source": [
    "print(data['householder'].unique())"
   ]
  },
  {
   "cell_type": "code",
   "execution_count": 14,
   "id": "informed-possession",
   "metadata": {},
   "outputs": [
    {
     "name": "stdout",
     "output_type": "stream",
     "text": [
      "MORTGAGE    4957\n",
      "RENT        4055\n",
      "OWNER        988\n",
      "Name: householder, dtype: int64\n"
     ]
    }
   ],
   "source": [
    "print(data['householder'].value_counts())"
   ]
  },
  {
   "cell_type": "code",
   "execution_count": 15,
   "id": "altered-treaty",
   "metadata": {},
   "outputs": [],
   "source": [
    "data[['date_issued','date_last_payment']].dtypes\n",
    "data['date_issued_dt'] = pd.to_datetime(data['date_issued'])\n",
    "data['date_last_payment_dt'] = pd.to_datetime(data['date_last_payment'])\n",
    "#Extract Month from the date\n",
    "data['month']= data['date_issued_dt'].dt.month"
   ]
  },
  {
   "cell_type": "code",
   "execution_count": 16,
   "id": "governing-platinum",
   "metadata": {},
   "outputs": [
    {
     "data": {
      "text/html": [
       "<div>\n",
       "<style scoped>\n",
       "    .dataframe tbody tr th:only-of-type {\n",
       "        vertical-align: middle;\n",
       "    }\n",
       "\n",
       "    .dataframe tbody tr th {\n",
       "        vertical-align: top;\n",
       "    }\n",
       "\n",
       "    .dataframe thead th {\n",
       "        text-align: right;\n",
       "    }\n",
       "</style>\n",
       "<table border=\"1\" class=\"dataframe\">\n",
       "  <thead>\n",
       "    <tr style=\"text-align: right;\">\n",
       "      <th></th>\n",
       "      <th>customer_id</th>\n",
       "      <th>disbursed_amount</th>\n",
       "      <th>interest</th>\n",
       "      <th>market</th>\n",
       "      <th>employment</th>\n",
       "      <th>time_employed</th>\n",
       "      <th>householder</th>\n",
       "      <th>income</th>\n",
       "      <th>date_issued</th>\n",
       "      <th>target</th>\n",
       "      <th>loan_purpose</th>\n",
       "      <th>number_open_accounts</th>\n",
       "      <th>date_last_payment</th>\n",
       "      <th>number_credit_lines_12</th>\n",
       "      <th>date_issued_dt</th>\n",
       "      <th>date_last_payment_dt</th>\n",
       "      <th>month</th>\n",
       "    </tr>\n",
       "  </thead>\n",
       "  <tbody>\n",
       "    <tr>\n",
       "      <th>0</th>\n",
       "      <td>0</td>\n",
       "      <td>23201.5</td>\n",
       "      <td>15.4840</td>\n",
       "      <td>C</td>\n",
       "      <td>Teacher</td>\n",
       "      <td>&lt;=5 years</td>\n",
       "      <td>RENT</td>\n",
       "      <td>84600.0</td>\n",
       "      <td>2013-06-11</td>\n",
       "      <td>0</td>\n",
       "      <td>Debt consolidation</td>\n",
       "      <td>4.0</td>\n",
       "      <td>2016-01-14</td>\n",
       "      <td>NaN</td>\n",
       "      <td>2013-06-11</td>\n",
       "      <td>2016-01-14</td>\n",
       "      <td>6</td>\n",
       "    </tr>\n",
       "    <tr>\n",
       "      <th>1</th>\n",
       "      <td>1</td>\n",
       "      <td>7425.0</td>\n",
       "      <td>11.2032</td>\n",
       "      <td>B</td>\n",
       "      <td>Accountant</td>\n",
       "      <td>&lt;=5 years</td>\n",
       "      <td>OWNER</td>\n",
       "      <td>102000.0</td>\n",
       "      <td>2014-05-08</td>\n",
       "      <td>0</td>\n",
       "      <td>Car purchase</td>\n",
       "      <td>13.0</td>\n",
       "      <td>2016-01-25</td>\n",
       "      <td>NaN</td>\n",
       "      <td>2014-05-08</td>\n",
       "      <td>2016-01-25</td>\n",
       "      <td>5</td>\n",
       "    </tr>\n",
       "    <tr>\n",
       "      <th>2</th>\n",
       "      <td>2</td>\n",
       "      <td>11150.0</td>\n",
       "      <td>8.5100</td>\n",
       "      <td>A</td>\n",
       "      <td>Statistician</td>\n",
       "      <td>&lt;=5 years</td>\n",
       "      <td>RENT</td>\n",
       "      <td>69840.0</td>\n",
       "      <td>2013-10-26</td>\n",
       "      <td>0</td>\n",
       "      <td>Debt consolidation</td>\n",
       "      <td>8.0</td>\n",
       "      <td>2014-09-26</td>\n",
       "      <td>NaN</td>\n",
       "      <td>2013-10-26</td>\n",
       "      <td>2014-09-26</td>\n",
       "      <td>10</td>\n",
       "    </tr>\n",
       "    <tr>\n",
       "      <th>3</th>\n",
       "      <td>3</td>\n",
       "      <td>7600.0</td>\n",
       "      <td>5.8656</td>\n",
       "      <td>A</td>\n",
       "      <td>Other</td>\n",
       "      <td>&lt;=5 years</td>\n",
       "      <td>RENT</td>\n",
       "      <td>100386.0</td>\n",
       "      <td>2015-08-20</td>\n",
       "      <td>0</td>\n",
       "      <td>Debt consolidation</td>\n",
       "      <td>20.0</td>\n",
       "      <td>2016-01-26</td>\n",
       "      <td>NaN</td>\n",
       "      <td>2015-08-20</td>\n",
       "      <td>2016-01-26</td>\n",
       "      <td>8</td>\n",
       "    </tr>\n",
       "    <tr>\n",
       "      <th>4</th>\n",
       "      <td>4</td>\n",
       "      <td>31960.0</td>\n",
       "      <td>18.7392</td>\n",
       "      <td>E</td>\n",
       "      <td>Bus driver</td>\n",
       "      <td>&gt;5 years</td>\n",
       "      <td>RENT</td>\n",
       "      <td>95040.0</td>\n",
       "      <td>2014-07-22</td>\n",
       "      <td>0</td>\n",
       "      <td>Debt consolidation</td>\n",
       "      <td>14.0</td>\n",
       "      <td>2016-01-11</td>\n",
       "      <td>NaN</td>\n",
       "      <td>2014-07-22</td>\n",
       "      <td>2016-01-11</td>\n",
       "      <td>7</td>\n",
       "    </tr>\n",
       "  </tbody>\n",
       "</table>\n",
       "</div>"
      ],
      "text/plain": [
       "   customer_id  disbursed_amount  interest market    employment time_employed  \\\n",
       "0            0           23201.5   15.4840      C       Teacher     <=5 years   \n",
       "1            1            7425.0   11.2032      B    Accountant     <=5 years   \n",
       "2            2           11150.0    8.5100      A  Statistician     <=5 years   \n",
       "3            3            7600.0    5.8656      A         Other     <=5 years   \n",
       "4            4           31960.0   18.7392      E    Bus driver      >5 years   \n",
       "\n",
       "  householder    income date_issued  target        loan_purpose  \\\n",
       "0        RENT   84600.0  2013-06-11       0  Debt consolidation   \n",
       "1       OWNER  102000.0  2014-05-08       0        Car purchase   \n",
       "2        RENT   69840.0  2013-10-26       0  Debt consolidation   \n",
       "3        RENT  100386.0  2015-08-20       0  Debt consolidation   \n",
       "4        RENT   95040.0  2014-07-22       0  Debt consolidation   \n",
       "\n",
       "   number_open_accounts date_last_payment  number_credit_lines_12  \\\n",
       "0                   4.0        2016-01-14                     NaN   \n",
       "1                  13.0        2016-01-25                     NaN   \n",
       "2                   8.0        2014-09-26                     NaN   \n",
       "3                  20.0        2016-01-26                     NaN   \n",
       "4                  14.0        2016-01-11                     NaN   \n",
       "\n",
       "  date_issued_dt date_last_payment_dt  month  \n",
       "0     2013-06-11           2016-01-14      6  \n",
       "1     2014-05-08           2016-01-25      5  \n",
       "2     2013-10-26           2014-09-26     10  \n",
       "3     2015-08-20           2016-01-26      8  \n",
       "4     2014-07-22           2016-01-11      7  "
      ]
     },
     "execution_count": 16,
     "metadata": {},
     "output_type": "execute_result"
    }
   ],
   "source": [
    "data.head()"
   ]
  },
  {
   "cell_type": "code",
   "execution_count": 17,
   "id": "forced-pointer",
   "metadata": {},
   "outputs": [
    {
     "name": "stdout",
     "output_type": "stream",
     "text": [
      "10    1277\n",
      "7     1066\n",
      "11    1017\n",
      "12     882\n",
      "8      852\n",
      "4      816\n",
      "5      749\n",
      "9      734\n",
      "6      700\n",
      "1      700\n",
      "3      623\n",
      "2      584\n",
      "Name: month, dtype: int64\n"
     ]
    }
   ],
   "source": [
    "print(data['month'].value_counts())"
   ]
  },
  {
   "cell_type": "code",
   "execution_count": 18,
   "id": "reflected-footage",
   "metadata": {},
   "outputs": [
    {
     "data": {
      "text/plain": [
       "[10]"
      ]
     },
     "execution_count": 18,
     "metadata": {},
     "output_type": "execute_result"
    }
   ],
   "source": [
    "data['month'].value_counts()[:1].index.tolist()"
   ]
  },
  {
   "cell_type": "code",
   "execution_count": 19,
   "id": "sized-brunswick",
   "metadata": {},
   "outputs": [
    {
     "name": "stdout",
     "output_type": "stream",
     "text": [
      "('Teacher', 'OWNER')\n",
      "      customer_id  disbursed_amount  interest market employment time_employed  \\\n",
      "71             71          10230.00    7.8900      A    Teacher      >5 years   \n",
      "85             85           3713.00   14.3068      C    Teacher      >5 years   \n",
      "171           171          19646.25   14.3904      C    Teacher     <=5 years   \n",
      "672           672          15200.00   10.8801      B    Teacher      >5 years   \n",
      "1024         1024          12144.00   14.2008      C    Teacher     <=5 years   \n",
      "...           ...               ...       ...    ...        ...           ...   \n",
      "9154         9154           9900.00   13.3855      B    Teacher      >5 years   \n",
      "9172         9172          22080.00   23.6509      E    Teacher      >5 years   \n",
      "9433         9433           4750.00   10.4405      B    Teacher     <=5 years   \n",
      "9684         9684           6650.00    7.4955      A    Teacher      >5 years   \n",
      "9769         9769          16005.00   12.5631      C    Teacher      >5 years   \n",
      "\n",
      "     householder    income date_issued  target        loan_purpose  \\\n",
      "71         OWNER   93840.0  2015-02-21       0  Debt consolidation   \n",
      "85         OWNER   19950.0  2013-07-20       0  Debt consolidation   \n",
      "171        OWNER   44650.0  2014-09-14       0   Home improvements   \n",
      "672        OWNER   82450.0  2015-11-16       0  Debt consolidation   \n",
      "1024       OWNER   66240.0  2014-04-26       0  Debt consolidation   \n",
      "...          ...       ...         ...     ...                 ...   \n",
      "9154       OWNER   40000.0  2012-12-14       0  Debt consolidation   \n",
      "9172       OWNER  145500.0  2014-08-05       0               Other   \n",
      "9433       OWNER   24440.0  2015-07-12       0  Debt consolidation   \n",
      "9684       OWNER   79200.0  2015-04-23       0  Debt consolidation   \n",
      "9769       OWNER   70560.0  2015-09-22       0  Debt consolidation   \n",
      "\n",
      "      number_open_accounts date_last_payment  number_credit_lines_12  \\\n",
      "71                    12.0        2015-04-15                     NaN   \n",
      "85                     2.0        2015-06-07                     NaN   \n",
      "171                   21.0        2016-01-10                     NaN   \n",
      "672                   17.0        2016-01-27                     NaN   \n",
      "1024                   9.0        2015-03-15                     NaN   \n",
      "...                    ...               ...                     ...   \n",
      "9154                   6.0        2013-02-20                     NaN   \n",
      "9172                  24.0        2016-01-06                     NaN   \n",
      "9433                   5.0        2016-01-22                     NaN   \n",
      "9684                  11.0        2015-12-06                     NaN   \n",
      "9769                  12.0        2016-01-20                     NaN   \n",
      "\n",
      "     date_issued_dt date_last_payment_dt  month  \n",
      "71       2015-02-21           2015-04-15      2  \n",
      "85       2013-07-20           2015-06-07      7  \n",
      "171      2014-09-14           2016-01-10      9  \n",
      "672      2015-11-16           2016-01-27     11  \n",
      "1024     2014-04-26           2015-03-15      4  \n",
      "...             ...                  ...    ...  \n",
      "9154     2012-12-14           2013-02-20     12  \n",
      "9172     2014-08-05           2016-01-06      8  \n",
      "9433     2015-07-12           2016-01-22      7  \n",
      "9684     2015-04-23           2015-12-06      4  \n",
      "9769     2015-09-22           2016-01-20      9  \n",
      "\n",
      "[69 rows x 17 columns]\n"
     ]
    }
   ],
   "source": [
    "for name, group in data.groupby(['employment', 'householder']):\n",
    "    if(name[0]=='Teacher' and name[1]=='OWNER'):\n",
    "        print(name)\n",
    "        print(group)"
   ]
  },
  {
   "cell_type": "code",
   "execution_count": 20,
   "id": "tutorial-biodiversity",
   "metadata": {},
   "outputs": [
    {
     "data": {
      "text/plain": [
       "employment\n",
       "Accountant            90\n",
       "Bus driver            96\n",
       "Civil Servant         89\n",
       "Dentist               71\n",
       "Nurse                 78\n",
       "Other                 85\n",
       "Secretary             59\n",
       "Software developer    76\n",
       "Statistician          84\n",
       "Taxi driver           80\n",
       "Teacher               69\n",
       "Name: householder, dtype: int64"
      ]
     },
     "execution_count": 20,
     "metadata": {},
     "output_type": "execute_result"
    }
   ],
   "source": [
    "data.groupby('employment')['householder'].apply(lambda ser: ser.str.contains(\"OWNER\").sum())"
   ]
  },
  {
   "cell_type": "markdown",
   "id": "nervous-estate",
   "metadata": {},
   "source": [
    "#### Here we can see that there are 69 teachers who are owners as well"
   ]
  },
  {
   "cell_type": "code",
   "execution_count": 21,
   "id": "expensive-radar",
   "metadata": {},
   "outputs": [
    {
     "data": {
      "text/plain": [
       "householder\n",
       "MORTGAGE    421\n",
       "OWNER        69\n",
       "RENT        371\n",
       "Name: employment, dtype: int64"
      ]
     },
     "execution_count": 21,
     "metadata": {},
     "output_type": "execute_result"
    }
   ],
   "source": [
    "# And we can verify another way as well \n",
    "data.groupby('householder')['employment'].apply(lambda ser: ser.str.contains(\"Teacher\").sum())"
   ]
  },
  {
   "cell_type": "code",
   "execution_count": 22,
   "id": "natural-phase",
   "metadata": {},
   "outputs": [
    {
     "data": {
      "text/plain": [
       "employment\n",
       "Accountant            322\n",
       "Bus driver            360\n",
       "Civil Servant         371\n",
       "Dentist               355\n",
       "Nurse                 358\n",
       "Other                 353\n",
       "Secretary             355\n",
       "Software developer    315\n",
       "Statistician          342\n",
       "Taxi driver           316\n",
       "Teacher               371\n",
       "Name: householder, dtype: int64"
      ]
     },
     "execution_count": 22,
     "metadata": {},
     "output_type": "execute_result"
    }
   ],
   "source": [
    "data.groupby('employment')['householder'].apply(lambda ser: ser.str.contains(\"RENT\").sum())"
   ]
  },
  {
   "cell_type": "code",
   "execution_count": 23,
   "id": "colonial-forty",
   "metadata": {},
   "outputs": [
    {
     "data": {
      "text/plain": [
       "employment\n",
       "Teacher               371\n",
       "Accountant            322\n",
       "Statistician          342\n",
       "Other                 353\n",
       "Bus driver            360\n",
       "Secretary             355\n",
       "Software developer    315\n",
       "Nurse                 358\n",
       "Taxi driver           316\n",
       "Civil Servant         371\n",
       "Dentist               355\n",
       "Name: householder, dtype: int64"
      ]
     },
     "execution_count": 23,
     "metadata": {},
     "output_type": "execute_result"
    }
   ],
   "source": [
    "data.groupby('employment',sort=False)['householder'].apply(lambda ser: ser.str.contains(\"RENT\").sum())"
   ]
  },
  {
   "cell_type": "markdown",
   "id": "continuous-instrumentation",
   "metadata": {},
   "source": [
    "#### And employment of customers who mostly rent is Teacher and Civil Servant"
   ]
  },
  {
   "cell_type": "code",
   "execution_count": 24,
   "id": "incident-course",
   "metadata": {},
   "outputs": [
    {
     "data": {
      "text/plain": [
       "householder\n",
       "MORTGAGE    421\n",
       "OWNER        69\n",
       "RENT        371\n",
       "Name: employment, dtype: int64"
      ]
     },
     "execution_count": 24,
     "metadata": {},
     "output_type": "execute_result"
    }
   ],
   "source": [
    "data.groupby('householder')['employment'].apply(lambda ser: ser.str.contains(\"Teacher\").sum())"
   ]
  },
  {
   "cell_type": "code",
   "execution_count": 25,
   "id": "thirty-raise",
   "metadata": {},
   "outputs": [
    {
     "data": {
      "text/plain": [
       "householder\n",
       "MORTGAGE    424\n",
       "OWNER        89\n",
       "RENT        371\n",
       "Name: employment, dtype: int64"
      ]
     },
     "execution_count": 25,
     "metadata": {},
     "output_type": "execute_result"
    }
   ],
   "source": [
    "data.groupby('householder')['employment'].apply(lambda ser: ser.str.contains(\"Civil Servant\").sum())"
   ]
  },
  {
   "cell_type": "code",
   "execution_count": 26,
   "id": "oriented-ranch",
   "metadata": {},
   "outputs": [
    {
     "data": {
      "text/plain": [
       "householder\n",
       "MORTGAGE    429\n",
       "OWNER        80\n",
       "RENT        316\n",
       "Name: employment, dtype: int64"
      ]
     },
     "execution_count": 26,
     "metadata": {},
     "output_type": "execute_result"
    }
   ],
   "source": [
    "data.groupby('householder')['employment'].apply(lambda ser: ser.str.contains(\"Taxi driver\").sum())"
   ]
  },
  {
   "cell_type": "code",
   "execution_count": 27,
   "id": "pleasant-riverside",
   "metadata": {},
   "outputs": [
    {
     "data": {
      "text/plain": [
       "householder\n",
       "MORTGAGE    417\n",
       "OWNER        76\n",
       "RENT        315\n",
       "Name: employment, dtype: int64"
      ]
     },
     "execution_count": 27,
     "metadata": {},
     "output_type": "execute_result"
    }
   ],
   "source": [
    "data.groupby('householder')['employment'].apply(lambda ser: ser.str.contains(\"Software developer\").sum())"
   ]
  },
  {
   "cell_type": "markdown",
   "id": "outstanding-strip",
   "metadata": {},
   "source": [
    "#### Pandas again proves to be essential in understanding the variations in our data by querying it in various ways"
   ]
  },
  {
   "cell_type": "code",
   "execution_count": null,
   "id": "continuing-mozambique",
   "metadata": {},
   "outputs": [],
   "source": []
  }
 ],
 "metadata": {
  "kernelspec": {
   "display_name": "Python 3",
   "language": "python",
   "name": "python3"
  },
  "language_info": {
   "codemirror_mode": {
    "name": "ipython",
    "version": 3
   },
   "file_extension": ".py",
   "mimetype": "text/x-python",
   "name": "python",
   "nbconvert_exporter": "python",
   "pygments_lexer": "ipython3",
   "version": "3.6.6"
  }
 },
 "nbformat": 4,
 "nbformat_minor": 5
}
